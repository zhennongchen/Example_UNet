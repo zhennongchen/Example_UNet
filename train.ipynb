{
 "cells": [
  {
   "cell_type": "markdown",
   "metadata": {},
   "source": [
    "'''use two adajacent noisy slices as input, use current noisy slice as output reference'''"
   ]
  },
  {
   "cell_type": "code",
   "execution_count": 11,
   "metadata": {},
   "outputs": [],
   "source": [
    "import sys \n",
    "sys.path.append('/workspace/Documents')\n",
    "import os\n",
    "import torch\n",
    "import numpy as np\n",
    "import Example_UNet.model.model as model\n",
    "import Example_UNet.functions_collection as ff\n",
    "import Example_UNet.Build_lists.Build_list as Build_list\n",
    "import Example_UNet.Generator as Generator"
   ]
  },
  {
   "cell_type": "markdown",
   "metadata": {},
   "source": [
    "### step 1: define trial name"
   ]
  },
  {
   "cell_type": "code",
   "execution_count": 2,
   "metadata": {},
   "outputs": [],
   "source": [
    "trial_name = 'trial'"
   ]
  },
  {
   "cell_type": "markdown",
   "metadata": {},
   "source": [
    "### step 2: define parameters (no need to change)"
   ]
  },
  {
   "cell_type": "code",
   "execution_count": 14,
   "metadata": {},
   "outputs": [],
   "source": [
    "image_size = [512,512]\n",
    "num_patches_per_slice = 2\n",
    "patch_size = [128,128]\n",
    "\n",
    "background_cutoff = -1000\n",
    "maximum_cutoff = 2000\n",
    "normalize_factor = 'equation'"
   ]
  },
  {
   "cell_type": "markdown",
   "metadata": {},
   "source": [
    "### step 3: build patient list"
   ]
  },
  {
   "cell_type": "code",
   "execution_count": 8,
   "metadata": {},
   "outputs": [
    {
     "name": "stdout",
     "output_type": "stream",
     "text": [
      "input: (2,)  reference: (2,)\n",
      "input file example:  /workspace/Documents/Example_UNet/example_data/ID_001/input.nii.gz  reference file:  /workspace/Documents/Example_UNet/example_data/ID_001/output_reference.nii.gz\n"
     ]
    }
   ],
   "source": [
    "# change the excel path to your own path\n",
    "patient_list_spreadsheet = os.path.join('/workspace/Documents/Example_UNet/example_data/Patient_lists/patient_list_example.xlsx') # change to your own path\n",
    "build_sheet =  Build_list.Build(patient_list_spreadsheet)\n",
    "_,_,input_file_train, reference_file_train = build_sheet.__build__(batch_list = [0,1]) \n",
    " \n",
    "# define val\n",
    "_,_,input_file_val, reference_file_val = build_sheet.__build__(batch_list = [1])  # just as an example, use the same batch for val\n",
    "\n",
    "print('input:', input_file_train.shape, ' reference:', reference_file_train.shape)\n",
    "print('input file example: ', input_file_train[0], ' reference file: ', reference_file_train[0])"
   ]
  },
  {
   "cell_type": "markdown",
   "metadata": {},
   "source": [
    "### Step 4: build model"
   ]
  },
  {
   "cell_type": "code",
   "execution_count": 12,
   "metadata": {},
   "outputs": [
    {
     "name": "stdout",
     "output_type": "stream",
     "text": [
      "in out is :  [(16, 32), (32, 64), (64, 128), (128, 256)]\n"
     ]
    }
   ],
   "source": [
    "# build model\n",
    "unet = model.Unet2D(\n",
    "    init_dim = 16,\n",
    "    channels = 1, \n",
    "    out_dim = 1,\n",
    "    dim_mults = (2,4,8,16),\n",
    "    full_attn = (None,None, False, True),\n",
    "    act = 'ReLU',\n",
    ")"
   ]
  },
  {
   "cell_type": "markdown",
   "metadata": {},
   "source": [
    "### Step 5: Data generator"
   ]
  },
  {
   "cell_type": "code",
   "execution_count": 15,
   "metadata": {},
   "outputs": [],
   "source": [
    "generator_train = Generator.Dataset_2D(\n",
    "        input_list = input_file_train,\n",
    "        reference_list = reference_file_train,\n",
    "\n",
    "        image_size = image_size,\n",
    "\n",
    "        num_slices_per_image = 50,\n",
    "        random_pick_slice = True,\n",
    "        slice_range = None, # None or [a,b]\n",
    "\n",
    "        background_cutoff = background_cutoff,\n",
    "        maximum_cutoff = maximum_cutoff,\n",
    "        normalize_factor = normalize_factor,\n",
    "\n",
    "        num_patches_per_slice = None,\n",
    "        patch_size = None,\n",
    "\n",
    "        shuffle = True,\n",
    "        augment = True,\n",
    "        augment_frequency = 0.5,)\n",
    "\n",
    "generator_val = Generator.Dataset_2D(\n",
    "        input_list = input_file_train,\n",
    "        reference_list = reference_file_train,\n",
    "\n",
    "        image_size = image_size,\n",
    "\n",
    "        num_slices_per_image = 20,\n",
    "        random_pick_slice = True,\n",
    "        slice_range = [0,20], # None or [a,b]\n",
    "\n",
    "        background_cutoff = background_cutoff,\n",
    "        maximum_cutoff = maximum_cutoff,\n",
    "        normalize_factor = normalize_factor,\n",
    "\n",
    "        num_patches_per_slice = None,\n",
    "        patch_size = None,\n",
    "\n",
    "        shuffle = False,\n",
    "        augment = False,\n",
    "        augment_frequency = 0,)"
   ]
  },
  {
   "cell_type": "markdown",
   "metadata": {},
   "source": [
    "### step 6: train"
   ]
  },
  {
   "cell_type": "code",
   "execution_count": 19,
   "metadata": {},
   "outputs": [],
   "source": [
    "# define pretrained model path if any\n",
    "pre_trained_model = None \n",
    "start_step = 0"
   ]
  },
  {
   "cell_type": "code",
   "execution_count": 16,
   "metadata": {},
   "outputs": [
    {
     "ename": "AttributeError",
     "evalue": "module 'Example_UNet.model.model' has no attribute 'channels'",
     "output_type": "error",
     "traceback": [
      "\u001b[0;31m---------------------------------------------------------------------------\u001b[0m",
      "\u001b[0;31mAttributeError\u001b[0m                            Traceback (most recent call last)",
      "\u001b[1;32m/workspace/Documents/Example_UNet/train.ipynb Cell 15\u001b[0m line \u001b[0;36m2\n\u001b[1;32m      <a href='vscode-notebook-cell://attached-container%2B7b22636f6e7461696e65724e616d65223a222f646f636b65725f31227d@ssh-remote%2B7b22686f73744e616d65223a227a68656e6e6f6e676368656e5f434344535f47505537227d/workspace/Documents/Example_UNet/train.ipynb#X21sdnNjb2RlLXJlbW90ZQ%3D%3D?line=0'>1</a>\u001b[0m \u001b[39m# train\u001b[39;00m\n\u001b[0;32m----> <a href='vscode-notebook-cell://attached-container%2B7b22636f6e7461696e65724e616d65223a222f646f636b65725f31227d@ssh-remote%2B7b22686f73744e616d65223a227a68656e6e6f6e676368656e5f434344535f47505537227d/workspace/Documents/Example_UNet/train.ipynb#X21sdnNjb2RlLXJlbW90ZQ%3D%3D?line=1'>2</a>\u001b[0m trainer \u001b[39m=\u001b[39m model\u001b[39m.\u001b[39;49mTrainer(\n\u001b[1;32m      <a href='vscode-notebook-cell://attached-container%2B7b22636f6e7461696e65724e616d65223a222f646f636b65725f31227d@ssh-remote%2B7b22686f73744e616d65223a227a68656e6e6f6e676368656e5f434344535f47505537227d/workspace/Documents/Example_UNet/train.ipynb#X21sdnNjb2RlLXJlbW90ZQ%3D%3D?line=2'>3</a>\u001b[0m     model\u001b[39m=\u001b[39;49m model,\n\u001b[1;32m      <a href='vscode-notebook-cell://attached-container%2B7b22636f6e7461696e65724e616d65223a222f646f636b65725f31227d@ssh-remote%2B7b22686f73744e616d65223a227a68656e6e6f6e676368656e5f434344535f47505537227d/workspace/Documents/Example_UNet/train.ipynb#X21sdnNjb2RlLXJlbW90ZQ%3D%3D?line=3'>4</a>\u001b[0m     generator_train \u001b[39m=\u001b[39;49m generator_train,\n\u001b[1;32m      <a href='vscode-notebook-cell://attached-container%2B7b22636f6e7461696e65724e616d65223a222f646f636b65725f31227d@ssh-remote%2B7b22686f73744e616d65223a227a68656e6e6f6e676368656e5f434344535f47505537227d/workspace/Documents/Example_UNet/train.ipynb#X21sdnNjb2RlLXJlbW90ZQ%3D%3D?line=4'>5</a>\u001b[0m     generator_val \u001b[39m=\u001b[39;49m generator_val,\n\u001b[1;32m      <a href='vscode-notebook-cell://attached-container%2B7b22636f6e7461696e65724e616d65223a222f646f636b65725f31227d@ssh-remote%2B7b22686f73744e616d65223a227a68656e6e6f6e676368656e5f434344535f47505537227d/workspace/Documents/Example_UNet/train.ipynb#X21sdnNjb2RlLXJlbW90ZQ%3D%3D?line=5'>6</a>\u001b[0m     train_batch_size \u001b[39m=\u001b[39;49m \u001b[39m10\u001b[39;49m,\n\u001b[1;32m      <a href='vscode-notebook-cell://attached-container%2B7b22636f6e7461696e65724e616d65223a222f646f636b65725f31227d@ssh-remote%2B7b22686f73744e616d65223a227a68656e6e6f6e676368656e5f434344535f47505537227d/workspace/Documents/Example_UNet/train.ipynb#X21sdnNjb2RlLXJlbW90ZQ%3D%3D?line=6'>7</a>\u001b[0m \n\u001b[1;32m      <a href='vscode-notebook-cell://attached-container%2B7b22636f6e7461696e65724e616d65223a222f646f636b65725f31227d@ssh-remote%2B7b22686f73744e616d65223a227a68656e6e6f6e676368656e5f434344535f47505537227d/workspace/Documents/Example_UNet/train.ipynb#X21sdnNjb2RlLXJlbW90ZQ%3D%3D?line=7'>8</a>\u001b[0m     train_num_steps \u001b[39m=\u001b[39;49m \u001b[39m100\u001b[39;49m, \u001b[39m# total training epochs\u001b[39;49;00m\n\u001b[1;32m      <a href='vscode-notebook-cell://attached-container%2B7b22636f6e7461696e65724e616d65223a222f646f636b65725f31227d@ssh-remote%2B7b22686f73744e616d65223a227a68656e6e6f6e676368656e5f434344535f47505537227d/workspace/Documents/Example_UNet/train.ipynb#X21sdnNjb2RlLXJlbW90ZQ%3D%3D?line=8'>9</a>\u001b[0m     results_folder \u001b[39m=\u001b[39;49m os\u001b[39m.\u001b[39;49mpath\u001b[39m.\u001b[39;49mjoin(\u001b[39m'\u001b[39;49m\u001b[39m/mnt/camca_NAS/denoising/models\u001b[39;49m\u001b[39m'\u001b[39;49m, trial_name, \u001b[39m'\u001b[39;49m\u001b[39mmodels\u001b[39;49m\u001b[39m'\u001b[39;49m), \u001b[39m# define your own save path\u001b[39;49;00m\n\u001b[1;32m     <a href='vscode-notebook-cell://attached-container%2B7b22636f6e7461696e65724e616d65223a222f646f636b65725f31227d@ssh-remote%2B7b22686f73744e616d65223a227a68656e6e6f6e676368656e5f434344535f47505537227d/workspace/Documents/Example_UNet/train.ipynb#X21sdnNjb2RlLXJlbW90ZQ%3D%3D?line=9'>10</a>\u001b[0m    \n\u001b[1;32m     <a href='vscode-notebook-cell://attached-container%2B7b22636f6e7461696e65724e616d65223a222f646f636b65725f31227d@ssh-remote%2B7b22686f73744e616d65223a227a68656e6e6f6e676368656e5f434344535f47505537227d/workspace/Documents/Example_UNet/train.ipynb#X21sdnNjb2RlLXJlbW90ZQ%3D%3D?line=10'>11</a>\u001b[0m     train_lr \u001b[39m=\u001b[39;49m \u001b[39m1e-4\u001b[39;49m,\n\u001b[1;32m     <a href='vscode-notebook-cell://attached-container%2B7b22636f6e7461696e65724e616d65223a222f646f636b65725f31227d@ssh-remote%2B7b22686f73744e616d65223a227a68656e6e6f6e676368656e5f434344535f47505537227d/workspace/Documents/Example_UNet/train.ipynb#X21sdnNjb2RlLXJlbW90ZQ%3D%3D?line=11'>12</a>\u001b[0m     train_lr_decay_every \u001b[39m=\u001b[39;49m \u001b[39m200\u001b[39;49m,  \u001b[39m# define your own lr decay frequency\u001b[39;49;00m\n\u001b[1;32m     <a href='vscode-notebook-cell://attached-container%2B7b22636f6e7461696e65724e616d65223a222f646f636b65725f31227d@ssh-remote%2B7b22686f73744e616d65223a227a68656e6e6f6e676368656e5f434344535f47505537227d/workspace/Documents/Example_UNet/train.ipynb#X21sdnNjb2RlLXJlbW90ZQ%3D%3D?line=12'>13</a>\u001b[0m     save_models_every \u001b[39m=\u001b[39;49m \u001b[39m1\u001b[39;49m, \u001b[39m# define your own save frequency\u001b[39;49;00m\n\u001b[1;32m     <a href='vscode-notebook-cell://attached-container%2B7b22636f6e7461696e65724e616d65223a222f646f636b65725f31227d@ssh-remote%2B7b22686f73744e616d65223a227a68656e6e6f6e676368656e5f434344535f47505537227d/workspace/Documents/Example_UNet/train.ipynb#X21sdnNjb2RlLXJlbW90ZQ%3D%3D?line=13'>14</a>\u001b[0m     validation_every \u001b[39m=\u001b[39;49m \u001b[39m1\u001b[39;49m, \u001b[39m# define your own validation frequency\u001b[39;49;00m\n\u001b[1;32m     <a href='vscode-notebook-cell://attached-container%2B7b22636f6e7461696e65724e616d65223a222f646f636b65725f31227d@ssh-remote%2B7b22686f73744e616d65223a227a68656e6e6f6e676368656e5f434344535f47505537227d/workspace/Documents/Example_UNet/train.ipynb#X21sdnNjb2RlLXJlbW90ZQ%3D%3D?line=14'>15</a>\u001b[0m )\n\u001b[1;32m     <a href='vscode-notebook-cell://attached-container%2B7b22636f6e7461696e65724e616d65223a222f646f636b65725f31227d@ssh-remote%2B7b22686f73744e616d65223a227a68656e6e6f6e676368656e5f434344535f47505537227d/workspace/Documents/Example_UNet/train.ipynb#X21sdnNjb2RlLXJlbW90ZQ%3D%3D?line=16'>17</a>\u001b[0m trainer\u001b[39m.\u001b[39mtrain(pre_trained_model\u001b[39m=\u001b[39mpre_trained_model, start_step\u001b[39m=\u001b[39m start_step)\n",
      "File \u001b[0;32m/workspace/Documents/Example_UNet/model/model.py:534\u001b[0m, in \u001b[0;36mTrainer.__init__\u001b[0;34m(self, model, generator_train, generator_val, train_batch_size, accum_iter, train_num_steps, results_folder, train_lr, train_lr_decay_every, save_models_every, validation_every, ema_update_every, ema_decay, adam_betas, amp, mixed_precision_type, split_batches, max_grad_norm)\u001b[0m\n\u001b[1;32m    531\u001b[0m \u001b[39mself\u001b[39m\u001b[39m.\u001b[39mmodel \u001b[39m=\u001b[39m model  \n\u001b[1;32m    532\u001b[0m \u001b[39mself\u001b[39m\u001b[39m.\u001b[39mloss_function1 \u001b[39m=\u001b[39m F\u001b[39m.\u001b[39mmse_loss; \u001b[39mself\u001b[39m\u001b[39m.\u001b[39mloss_function2 \u001b[39m=\u001b[39m F\u001b[39m.\u001b[39ml1_loss\n\u001b[0;32m--> 534\u001b[0m \u001b[39mself\u001b[39m\u001b[39m.\u001b[39mchannels \u001b[39m=\u001b[39m model\u001b[39m.\u001b[39;49mchannels\n\u001b[1;32m    536\u001b[0m \u001b[39m# sampling and training hyperparameters\u001b[39;00m\n\u001b[1;32m    537\u001b[0m \u001b[39mself\u001b[39m\u001b[39m.\u001b[39mbatch_size \u001b[39m=\u001b[39m train_batch_size\n",
      "\u001b[0;31mAttributeError\u001b[0m: module 'Example_UNet.model.model' has no attribute 'channels'"
     ]
    }
   ],
   "source": [
    "# train\n",
    "trainer = model.Trainer(\n",
    "    model= model,\n",
    "    generator_train = generator_train,\n",
    "    generator_val = generator_val,\n",
    "    train_batch_size = 10,\n",
    "\n",
    "    train_num_steps = 100, # total training epochs\n",
    "    results_folder = os.path.join('/mnt/camca_NAS/denoising/models', trial_name, 'models'), # define your own save path\n",
    "   \n",
    "    train_lr = 1e-4,\n",
    "    train_lr_decay_every = 200,  # define your own lr decay frequency\n",
    "    save_models_every = 1, # define your own save frequency\n",
    "    validation_every = 1, # define your own validation frequency\n",
    ")\n",
    "\n",
    "trainer.train(pre_trained_model=pre_trained_model, start_step= start_step)"
   ]
  },
  {
   "cell_type": "code",
   "execution_count": null,
   "metadata": {},
   "outputs": [],
   "source": []
  }
 ],
 "metadata": {
  "kernelspec": {
   "display_name": "Python 3",
   "language": "python",
   "name": "python3"
  },
  "language_info": {
   "codemirror_mode": {
    "name": "ipython",
    "version": 3
   },
   "file_extension": ".py",
   "mimetype": "text/x-python",
   "name": "python",
   "nbconvert_exporter": "python",
   "pygments_lexer": "ipython3",
   "version": "3.8.10"
  }
 },
 "nbformat": 4,
 "nbformat_minor": 2
}
