{
 "cells": [
  {
   "cell_type": "code",
   "execution_count": 1,
   "metadata": {},
   "outputs": [
    {
     "name": "stderr",
     "output_type": "stream",
     "text": [
      "/usr/local/lib/python3.8/dist-packages/tqdm/auto.py:21: TqdmWarning: IProgress not found. Please update jupyter and ipywidgets. See https://ipywidgets.readthedocs.io/en/stable/user_install.html\n",
      "  from .autonotebook import tqdm as notebook_tqdm\n"
     ]
    }
   ],
   "source": [
    "import sys \n",
    "sys.path.append('/workspace/Documents')\n",
    "import os\n",
    "import torch\n",
    "import numpy as np\n",
    "import nibabel as nb\n",
    "import Example_UNet.model.model as model\n",
    "import Example_UNet.functions_collection as ff\n",
    "import Example_UNet.Build_lists.Build_list as Build_list\n",
    "import Example_UNet.Generator as Generator"
   ]
  },
  {
   "cell_type": "markdown",
   "metadata": {},
   "source": [
    "### Step 1: define pre-trained model"
   ]
  },
  {
   "cell_type": "code",
   "execution_count": 10,
   "metadata": {},
   "outputs": [],
   "source": [
    "trial_name = 'trial'\n",
    "epoch = 2  # picked the epoch of a trained model\n",
    "trained_model_filename = os.path.join('/mnt/camca_NAS/denoising/models', trial_name, 'models/model-' + str(epoch)+ '.pt') # path to trained model\n",
    "save_folder = os.path.join('/mnt/camca_NAS/denoising/models', trial_name, 'pred_images'); os.makedirs(save_folder, exist_ok=True) # path to save predicted images"
   ]
  },
  {
   "cell_type": "code",
   "execution_count": 11,
   "metadata": {},
   "outputs": [],
   "source": [
    "### parameters no need to change\n",
    "image_size = [512,512]\n",
    "\n",
    "histogram_equalization = True\n",
    "background_cutoff = -1000\n",
    "maximum_cutoff = 2000\n",
    "normalize_factor = 'equation' "
   ]
  },
  {
   "cell_type": "markdown",
   "metadata": {},
   "source": [
    "### step 2: build patient list - testing, batch 5"
   ]
  },
  {
   "cell_type": "code",
   "execution_count": 12,
   "metadata": {},
   "outputs": [],
   "source": [
    "patient_list_spreadsheet = os.path.join('/workspace/Documents/Example_UNet/example_data/Patient_lists/patient_list_example.xlsx') # change to your own path\n",
    "build_sheet =  Build_list.Build(patient_list_spreadsheet)\n",
    "\n",
    "_,patient_id_list, input_list, reference_list = build_sheet.__build__(batch_list = [1]) "
   ]
  },
  {
   "cell_type": "markdown",
   "metadata": {},
   "source": [
    "### step 3: build model"
   ]
  },
  {
   "cell_type": "code",
   "execution_count": 13,
   "metadata": {},
   "outputs": [
    {
     "name": "stdout",
     "output_type": "stream",
     "text": [
      "in out is :  [(16, 32), (32, 64), (64, 128), (128, 256)]\n"
     ]
    }
   ],
   "source": [
    "# build model\n",
    "our_model = model.Unet2D(\n",
    "    init_dim = 16,\n",
    "    channels = 1, \n",
    "    out_dim = 1,\n",
    "    dim_mults = (2,4,8,16),\n",
    "    full_attn = (None,None, False, True),\n",
    "    act = 'ReLU',\n",
    ")"
   ]
  },
  {
   "cell_type": "markdown",
   "metadata": {},
   "source": [
    "### step 4: main"
   ]
  },
  {
   "cell_type": "code",
   "execution_count": 14,
   "metadata": {},
   "outputs": [
    {
     "name": "stdout",
     "output_type": "stream",
     "text": [
      "0 ID_002 /workspace/Documents/Example_UNet/example_data/data/ID_002/input.nii.gz /workspace/Documents/Example_UNet/example_data/data/ID_002/output_reference.nii.gz\n"
     ]
    },
    {
     "name": "stderr",
     "output_type": "stream",
     "text": [
      "/workspace/Documents/Example_UNet/model/model.py:750: FutureWarning: You are using `torch.load` with `weights_only=False` (the current default value), which uses the default pickle module implicitly. It is possible to construct malicious pickle data which will execute arbitrary code during unpickling (See https://github.com/pytorch/pytorch/blob/main/SECURITY.md#untrusted-models for more details). In a future release, the default value for `weights_only` will be flipped to `True`. This limits the functions that could be executed during unpickling. Arbitrary objects will no longer be allowed to be loaded via this mode unless they are explicitly allowlisted by the user via `torch.serialization.add_safe_globals`. We recommend you start setting `weights_only=True` for any use case where you don't have full control of the loaded file. Please open an issue on GitHub for any issues related to this experimental feature.\n",
      "  data = torch.load(trained_model_filename, map_location=self.device)\n"
     ]
    },
    {
     "name": "stdout",
     "output_type": "stream",
     "text": [
      "model device:  cuda:0\n",
      "gt_img shape:  (512, 512, 50)\n",
      "random origin x is:  0  and random origin y is:  0\n",
      "random origin x is:  0  and random origin y is:  0\n",
      "random origin x is:  0  and random origin y is:  0\n",
      "random origin x is:  0  and random origin y is:  0\n",
      "random origin x is:  0  and random origin y is:  0\n",
      "random origin x is:  0  and random origin y is:  0\n",
      "random origin x is:  0  and random origin y is:  0\n",
      "random origin x is:  0  and random origin y is:  0\n",
      "random origin x is:  0  and random origin y is:  0\n",
      "random origin x is:  0  and random origin y is:  0\n",
      "random origin x is:  0  and random origin y is:  0\n",
      "random origin x is:  0  and random origin y is:  0\n",
      "random origin x is:  0  and random origin y is:  0\n",
      "random origin x is:  0  and random origin y is:  0\n",
      "random origin x is:  0  and random origin y is:  0\n",
      "random origin x is:  0  and random origin y is:  0\n",
      "random origin x is:  0  and random origin y is:  0\n",
      "random origin x is:  0  and random origin y is:  0\n",
      "random origin x is:  0  and random origin y is:  0\n",
      "random origin x is:  0  and random origin y is:  0\n",
      "random origin x is:  0  and random origin y is:  0\n",
      "random origin x is:  0  and random origin y is:  0\n",
      "random origin x is:  0  and random origin y is:  0\n",
      "random origin x is:  0  and random origin y is:  0\n",
      "random origin x is:  0  and random origin y is:  0\n",
      "random origin x is:  0  and random origin y is:  0\n",
      "random origin x is:  0  and random origin y is:  0\n",
      "random origin x is:  0  and random origin y is:  0\n",
      "random origin x is:  0  and random origin y is:  0\n",
      "random origin x is:  0  and random origin y is:  0\n",
      "random origin x is:  0  and random origin y is:  0\n",
      "random origin x is:  0  and random origin y is:  0\n",
      "random origin x is:  0  and random origin y is:  0\n",
      "random origin x is:  0  and random origin y is:  0\n",
      "random origin x is:  0  and random origin y is:  0\n",
      "random origin x is:  0  and random origin y is:  0\n",
      "random origin x is:  0  and random origin y is:  0\n",
      "random origin x is:  0  and random origin y is:  0\n",
      "random origin x is:  0  and random origin y is:  0\n",
      "random origin x is:  0  and random origin y is:  0\n",
      "random origin x is:  0  and random origin y is:  0\n",
      "random origin x is:  0  and random origin y is:  0\n",
      "random origin x is:  0  and random origin y is:  0\n",
      "random origin x is:  0  and random origin y is:  0\n",
      "random origin x is:  0  and random origin y is:  0\n",
      "random origin x is:  0  and random origin y is:  0\n",
      "random origin x is:  0  and random origin y is:  0\n",
      "random origin x is:  0  and random origin y is:  0\n",
      "random origin x is:  0  and random origin y is:  0\n",
      "random origin x is:  0  and random origin y is:  0\n"
     ]
    }
   ],
   "source": [
    "# main\n",
    "for i in range(0, patient_id_list.shape[0]):\n",
    "    patient_id = patient_id_list[i]\n",
    "    input_file = input_list[i]\n",
    "    reference_file = reference_list[i]\n",
    "\n",
    "    print(i,patient_id, input_file, reference_file)\n",
    "\n",
    "    # get the reference image\n",
    "    reference_img = nb.load(reference_file)\n",
    "    affine = reference_img.affine; reference_img = reference_img.get_fdata()\n",
    "\n",
    "    # make folders\n",
    "    ff.make_folder([os.path.join(save_folder, patient_id)])\n",
    "    save_folder_case = os.path.join(save_folder, patient_id, 'epoch' + str(epoch)); os.makedirs(save_folder_case, exist_ok=True)\n",
    "\n",
    "    # # generator\n",
    "    generator = Generator.Dataset_2D(\n",
    "        input_list = np.asarray([input_file]),\n",
    "        reference_list = np.asarray([reference_file]),\n",
    "\n",
    "        image_size = image_size,\n",
    "\n",
    "        num_slices_per_image = reference_img.shape[-1],\n",
    "        random_pick_slice = False,\n",
    "        slice_range = None,\n",
    "\n",
    "        background_cutoff = background_cutoff,\n",
    "        maximum_cutoff = maximum_cutoff,\n",
    "        normalize_factor = normalize_factor,\n",
    "\n",
    "        num_patches_per_slice = 1,\n",
    "        patch_size = image_size, ## validation on full image\n",
    "\n",
    "        shuffle = False,\n",
    "        augment = False,\n",
    "        augment_frequency = 0,)\n",
    "\n",
    "    # # sample:\n",
    "    sampler = model.Sampler(our_model,generator,batch_size = 1, image_size = image_size)\n",
    "\n",
    "    pred_img = sampler.sample_2D(trained_model_filename, reference_img)\n",
    "    pred_img_final = pred_img\n",
    "    \n",
    "    # save\n",
    "    nb.save(nb.Nifti1Image(pred_img_final, affine), os.path.join(save_folder_case, 'pred_img.nii.gz'))"
   ]
  },
  {
   "cell_type": "code",
   "execution_count": null,
   "metadata": {},
   "outputs": [],
   "source": []
  }
 ],
 "metadata": {
  "kernelspec": {
   "display_name": "Python 3",
   "language": "python",
   "name": "python3"
  },
  "language_info": {
   "codemirror_mode": {
    "name": "ipython",
    "version": 3
   },
   "file_extension": ".py",
   "mimetype": "text/x-python",
   "name": "python",
   "nbconvert_exporter": "python",
   "pygments_lexer": "ipython3",
   "version": "3.8.10"
  }
 },
 "nbformat": 4,
 "nbformat_minor": 2
}
